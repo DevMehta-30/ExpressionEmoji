{
  "cells": [
    {
      "cell_type": "code",
      "execution_count": 1,
      "id": "48912f97",
      "metadata": {
        "trusted": false
      },
      "outputs": [],
      "source": "import numpy as np\nimport matplotlib.pyplot as plt\nimport pandas as pd"
    },
    {
      "cell_type": "code",
      "execution_count": 4,
      "id": "991d2bea",
      "metadata": {
        "trusted": false
      },
      "outputs": [],
      "source": "dataset=pd.read_csv('Malware dataset.csv')\ndataset2=dataset.copy()\ndataset2=dataset.drop(['classification'],axis=1)\n\nX=dataset2.iloc[:,1:].values\ny=dataset.iloc[:,2].values"
    },
    {
      "cell_type": "code",
      "execution_count": 6,
      "id": "c51f6e39",
      "metadata": {
        "trusted": false
      },
      "outputs": [],
      "source": "from sklearn.preprocessing import LabelEncoder\nle=LabelEncoder()\ny=le.fit_transform(y)"
    },
    {
      "cell_type": "code",
      "execution_count": 7,
      "id": "634d019f",
      "metadata": {
        "trusted": false
      },
      "outputs": [],
      "source": "from sklearn.model_selection import train_test_split\nX_train,X_test,y_train,y_test=train_test_split(X,y,test_size=0.25,random_state=0)"
    },
    {
      "cell_type": "code",
      "execution_count": 8,
      "id": "7dbdcfbf",
      "metadata": {
        "trusted": false
      },
      "outputs": [
        {
          "name": "stdout",
          "output_type": "stream",
          "text": "[[  606 12288     0 ...    10     0     0]\n [  228 28672     0 ...     0     0     0]\n [  382  4096     0 ...     1     0     0]\n ...\n [  613 12288     0 ...    11     0     0]\n [  567  4096     0 ...     2     0     0]\n [  268     0     0 ...     0     0     0]]\n"
        }
      ],
      "source": "print(X_train)"
    },
    {
      "cell_type": "code",
      "execution_count": 9,
      "id": "991fb2d7",
      "metadata": {
        "trusted": false
      },
      "outputs": [
        {
          "name": "stdout",
          "output_type": "stream",
          "text": "[0 1 0 ... 0 0 1]\n"
        }
      ],
      "source": "print(y_train)"
    },
    {
      "cell_type": "code",
      "execution_count": 10,
      "id": "1b8fdcf9",
      "metadata": {
        "trusted": false
      },
      "outputs": [
        {
          "name": "stdout",
          "output_type": "stream",
          "text": "[[    582       0       0 ...       8       0       0]\n [    498       0       0 ...       0       0       0]\n [    227 1028096       0 ...       4       0       0]\n ...\n [    585    4096       0 ...       0       0       0]\n [    519       0       0 ...       7       0       0]\n [    831       0       0 ...       0       0       0]]\n"
        }
      ],
      "source": "print(X_test)"
    },
    {
      "cell_type": "code",
      "execution_count": 12,
      "id": "247476d5",
      "metadata": {
        "trusted": false
      },
      "outputs": [
        {
          "name": "stdout",
          "output_type": "stream",
          "text": "[1 0 0 ... 1 0 0]\n"
        }
      ],
      "source": "print(y_test)"
    },
    {
      "cell_type": "code",
      "execution_count": 13,
      "id": "26754dce",
      "metadata": {
        "trusted": false
      },
      "outputs": [
        {
          "data": {
            "text/html": "<style>#sk-container-id-1 {color: black;background-color: white;}#sk-container-id-1 pre{padding: 0;}#sk-container-id-1 div.sk-toggleable {background-color: white;}#sk-container-id-1 label.sk-toggleable__label {cursor: pointer;display: block;width: 100%;margin-bottom: 0;padding: 0.3em;box-sizing: border-box;text-align: center;}#sk-container-id-1 label.sk-toggleable__label-arrow:before {content: \"▸\";float: left;margin-right: 0.25em;color: #696969;}#sk-container-id-1 label.sk-toggleable__label-arrow:hover:before {color: black;}#sk-container-id-1 div.sk-estimator:hover label.sk-toggleable__label-arrow:before {color: black;}#sk-container-id-1 div.sk-toggleable__content {max-height: 0;max-width: 0;overflow: hidden;text-align: left;background-color: #f0f8ff;}#sk-container-id-1 div.sk-toggleable__content pre {margin: 0.2em;color: black;border-radius: 0.25em;background-color: #f0f8ff;}#sk-container-id-1 input.sk-toggleable__control:checked~div.sk-toggleable__content {max-height: 200px;max-width: 100%;overflow: auto;}#sk-container-id-1 input.sk-toggleable__control:checked~label.sk-toggleable__label-arrow:before {content: \"▾\";}#sk-container-id-1 div.sk-estimator input.sk-toggleable__control:checked~label.sk-toggleable__label {background-color: #d4ebff;}#sk-container-id-1 div.sk-label input.sk-toggleable__control:checked~label.sk-toggleable__label {background-color: #d4ebff;}#sk-container-id-1 input.sk-hidden--visually {border: 0;clip: rect(1px 1px 1px 1px);clip: rect(1px, 1px, 1px, 1px);height: 1px;margin: -1px;overflow: hidden;padding: 0;position: absolute;width: 1px;}#sk-container-id-1 div.sk-estimator {font-family: monospace;background-color: #f0f8ff;border: 1px dotted black;border-radius: 0.25em;box-sizing: border-box;margin-bottom: 0.5em;}#sk-container-id-1 div.sk-estimator:hover {background-color: #d4ebff;}#sk-container-id-1 div.sk-parallel-item::after {content: \"\";width: 100%;border-bottom: 1px solid gray;flex-grow: 1;}#sk-container-id-1 div.sk-label:hover label.sk-toggleable__label {background-color: #d4ebff;}#sk-container-id-1 div.sk-serial::before {content: \"\";position: absolute;border-left: 1px solid gray;box-sizing: border-box;top: 0;bottom: 0;left: 50%;z-index: 0;}#sk-container-id-1 div.sk-serial {display: flex;flex-direction: column;align-items: center;background-color: white;padding-right: 0.2em;padding-left: 0.2em;position: relative;}#sk-container-id-1 div.sk-item {position: relative;z-index: 1;}#sk-container-id-1 div.sk-parallel {display: flex;align-items: stretch;justify-content: center;background-color: white;position: relative;}#sk-container-id-1 div.sk-item::before, #sk-container-id-1 div.sk-parallel-item::before {content: \"\";position: absolute;border-left: 1px solid gray;box-sizing: border-box;top: 0;bottom: 0;left: 50%;z-index: -1;}#sk-container-id-1 div.sk-parallel-item {display: flex;flex-direction: column;z-index: 1;position: relative;background-color: white;}#sk-container-id-1 div.sk-parallel-item:first-child::after {align-self: flex-end;width: 50%;}#sk-container-id-1 div.sk-parallel-item:last-child::after {align-self: flex-start;width: 50%;}#sk-container-id-1 div.sk-parallel-item:only-child::after {width: 0;}#sk-container-id-1 div.sk-dashed-wrapped {border: 1px dashed gray;margin: 0 0.4em 0.5em 0.4em;box-sizing: border-box;padding-bottom: 0.4em;background-color: white;}#sk-container-id-1 div.sk-label label {font-family: monospace;font-weight: bold;display: inline-block;line-height: 1.2em;}#sk-container-id-1 div.sk-label-container {text-align: center;}#sk-container-id-1 div.sk-container {/* jupyter's `normalize.less` sets `[hidden] { display: none; }` but bootstrap.min.css set `[hidden] { display: none !important; }` so we also need the `!important` here to be able to override the default hidden behavior on the sphinx rendered scikit-learn.org. See: https://github.com/scikit-learn/scikit-learn/issues/21755 */display: inline-block !important;position: relative;}#sk-container-id-1 div.sk-text-repr-fallback {display: none;}</style><div id=\"sk-container-id-1\" class=\"sk-top-container\"><div class=\"sk-text-repr-fallback\"><pre>GaussianNB()</pre><b>In a Jupyter environment, please rerun this cell to show the HTML representation or trust the notebook. <br />On GitHub, the HTML representation is unable to render, please try loading this page with nbviewer.org.</b></div><div class=\"sk-container\" hidden><div class=\"sk-item\"><div class=\"sk-estimator sk-toggleable\"><input class=\"sk-toggleable__control sk-hidden--visually\" id=\"sk-estimator-id-1\" type=\"checkbox\" checked><label for=\"sk-estimator-id-1\" class=\"sk-toggleable__label sk-toggleable__label-arrow\">GaussianNB</label><div class=\"sk-toggleable__content\"><pre>GaussianNB()</pre></div></div></div></div></div>",
            "text/plain": "GaussianNB()"
          },
          "execution_count": 13,
          "metadata": {},
          "output_type": "execute_result"
        }
      ],
      "source": "from sklearn.naive_bayes import GaussianNB\nmodel = GaussianNB()\nmodel.fit(X_train,y_train)"
    },
    {
      "cell_type": "code",
      "execution_count": 15,
      "id": "24920a5a",
      "metadata": {
        "trusted": false
      },
      "outputs": [
        {
          "name": "stdout",
          "output_type": "stream",
          "text": "[[1 1]\n [1 0]\n [0 0]\n ...\n [1 1]\n [0 0]\n [1 0]]\n"
        }
      ],
      "source": "y_pred=model.predict(X_test)\nprint(np.concatenate((y_pred.reshape(len(y_pred),1),y_test.reshape(len(y_test),1)),1))"
    },
    {
      "cell_type": "code",
      "execution_count": 16,
      "id": "20b287ad",
      "metadata": {
        "trusted": false
      },
      "outputs": [
        {
          "name": "stdout",
          "output_type": "stream",
          "text": "[[ 4972  7556]\n [ 1939 10533]]\n"
        },
        {
          "data": {
            "text/plain": "0.6202"
          },
          "execution_count": 16,
          "metadata": {},
          "output_type": "execute_result"
        }
      ],
      "source": "from sklearn.metrics import confusion_matrix,accuracy_score\ncm=confusion_matrix(y_test,y_pred)\nprint(cm)\naccuracy_score(y_test,y_pred)"
    },
    {
      "cell_type": "code",
      "execution_count": 17,
      "id": "28d5a308",
      "metadata": {
        "trusted": false
      },
      "outputs": [
        {
          "name": "stdout",
          "output_type": "stream",
          "text": "Accuracy =  0.6202\nPrecision =  0.5822875780861297\nRecall =  0.8445317511225144\n"
        }
      ],
      "source": "from sklearn.metrics import accuracy_score,precision_score,recall_score\nprint(\"Accuracy = \",accuracy_score(y_test,y_pred))\nprint(\"Precision = \",precision_score(y_test,y_pred))\nprint(\"Recall = \",recall_score(y_test,y_pred))"
    },
    {
      "cell_type": "code",
      "execution_count": null,
      "id": "bd25115c",
      "metadata": {
        "trusted": false
      },
      "outputs": [],
      "source": ""
    }
  ],
  "metadata": {
    "kernelspec": {
      "display_name": "Python 3 (ipykernel)",
      "language": "python",
      "name": "python3"
    },
    "language_info": {
      "codemirror_mode": {
        "name": "ipython",
        "version": 3
      },
      "file_extension": ".py",
      "mimetype": "text/x-python",
      "name": "python",
      "nbconvert_exporter": "python",
      "pygments_lexer": "ipython3",
      "version": "3.12.4"
    }
  },
  "nbformat": 4,
  "nbformat_minor": 5
}